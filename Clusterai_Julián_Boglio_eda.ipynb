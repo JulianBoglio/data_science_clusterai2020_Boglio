{
 "cells": [
  {
   "cell_type": "markdown",
   "metadata": {},
   "source": [
    "# ClusterAl 2020\n",
    "\n",
    "\n",
    "# Ciencia de Datos - Ingenieria Industrial UTN BA\n",
    "# Curso I5521\n",
    "\n",
    "\n",
    "## \"Establecimientos Hospitalarios en Provincia de Buenos Aires\"\n",
    "\n",
    "#### Docente: Martin Palazzo\n",
    "\n",
    "#### Mentor: Ezequiel Vannucchi\n",
    "\n",
    "####  Grupo N°9\n",
    "#### JULIÁN BOGLIO"
   ]
  },
  {
   "cell_type": "markdown",
   "metadata": {},
   "source": [
    "Buenos Aires tiene 134 Municipios divididos en 12 Regiones Sanitarias, zonas en que se divide el territorio bonaerense tomando en cuenta su población y las instalaciones médicas y sanitarias disponibles. \n",
    "\n",
    "La Región Sanitaria Nº 1 comprende a: Carmen de Patagones, Adolfo Alsina, González Chávez, Bahía Blanca, Coronel Dorrego, Coronel Pringles, Coronel Rosales, Coronel Suárez, Guaminí, Monte Hermoso, Puan, Saavedra, Torquinst, Tres Arroyos y Villarino; aproximadamente funcionan 195 centros de salud.\n",
    "\n",
    "La Nº 2 está conformada por: Carlos Tejedor, Pehuajó, Daireaux, General Villegas, 9 de Julio, Carlos Casares, Trenque Lauquen, Rivadavia, Pellegrini, Tres Lomas, Saliquelo, e Hipólito Irigoyen; tiene aproximadamente 111 Centros.\n",
    "\n",
    "A la Región Sanitaria Nº 3 la componen los municipios de:General Viamonte, Chacabuco, Junín, General Arenales, Leandro N. Alem, General Pinto, F. Ameghino y Lincoln; aquí están en funcionamiento 85 Centros de Salud aproximadamente.\n",
    "\n",
    "Por su parte: Capitán Sarmiento, Carmen de Areco, San Andrés de Giles, San Antonio de Areco, Baradero, San Pedro, Ramallo, San Nicolás, Arrecifes, Salto, Pergamino, Colón, Rojas forman la Región Sanitaria Nº 4, en donde hay 111 centros de Salud.\n",
    "\n",
    "En la Región Nº 5 hay 356 Centros en funcionamiento distribuidos en las siguientes localidades: Exaltación de la Cruz, Zárate, Campana, Pilar, Escobar, Tigre, José C. Paz, Malvinas Argentinas, San Fernando, San Isidro, Vicente López, Gral. San Martín, San Miguel e Isla Martín García.\n",
    "\n",
    "La sexta es una de las más extensas porque enmarca a dos municipios del primer cordón del Conurbano Bonaerense de la Zona Sur que limitan con la Capital Federal Avellaneda y Lanús, y a siete del segundo cordón del Conurbano: Almirante Brown, Berazategui, Esteban Echeverría, Ezeiza, Florencio Varela, Lomas de Zamora y Quilmes. En total suma una población estimada de 3.650.198 personas.\n",
    "\n",
    "La Región 7 incluye a Moreno, Hurlingham, Morón, Ituzaingo, Tres de Febrero, Merlo, General Las Heras, Gral. Rodríguez, Marcos Paz y Luján; cuenta con 160 centros de salud.\n",
    "\n",
    "La Región Sanitaria Nº 8 comprende los municipios de: General Lavalle, Maipú, Partido de La Costa, Pinamar, Villa Gesell, General Madariaga, General Guido, Ayacucho, Tandil, Balcarce, Mar Chiquita, General Pueyrredón, General Alvarado, Loberia, Necochea, San Cayetano; tiene 190 centros.\n",
    "\n",
    "La novena incluye a: Las Flores, General Alvear, Tapalqué, Bolívar, Azul, Benito Juárez, Laprida, Olavarría, Lamadrid y Rauch; brinda atención médica a través de sus 111 centros de Salud.\n",
    "\n",
    "La Región Sanitaria Nº 10 abarca a:Mercedes, Lobos, Suipacha, Bragado, Alberti, Chivilcoy, Navarro, Roque, Pérez, 25 de Mayo y Saladillo; posee 106 centros.\n",
    "\n",
    "Pilar, Dolores, Tordillo, Castelli, General Belgrano, Chascomús, Punta Indio, Monte, General Paz, Brandsen, Berisso, La Plata, Ensenada, San Vicente, Cañuelas, Presidente Perón y Magdalena, componen a la Región Sanitaria Nº 11 que cuenta con 184 centros.\n",
    "\n",
    "Por último la Nº 12 comprende al Partido de La Matanza y cuenta con aproximadamente 78 centros de salud.\n",
    "\n",
    "<img src=\"REGION-SANITARIA.JPG\" style=\"width: 1000px;\"/>"
   ]
  },
  {
   "cell_type": "markdown",
   "metadata": {},
   "source": [
    "Lo primero que haremos será importar librerías a utilizar durante el proyecto y luego cargar el data set:"
   ]
  },
  {
   "cell_type": "code",
   "execution_count": 98,
   "metadata": {
    "colab": {
     "base_uri": "https://localhost:8080/",
     "height": 72,
     "resources": {
      "http://localhost:8080/nbextensions/google.colab/files.js": {
       "data": "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",
       "headers": [
        [
         "content-type",
         "application/javascript"
        ]
       ],
       "ok": true,
       "status": 200,
       "status_text": ""
      }
     }
    },
    "executionInfo": {
     "elapsed": 147601,
     "status": "ok",
     "timestamp": 1603647178224,
     "user": {
      "displayName": "JAVIER AGUSTIN NISIMURA",
      "photoUrl": "",
      "userId": "14672891135604075839"
     },
     "user_tz": 180
    },
    "id": "YSpwFh4gJKew",
    "outputId": "9aacb18f-fe60-4bbc-ecc8-a3c4a4bd2df9"
   },
   "outputs": [],
   "source": [
    "import warnings\n",
    "warnings.filterwarnings('ignore')\n",
    "\n",
    "import pandas as pd\n",
    "import numpy as np\n",
    "import matplotlib.pyplot as plt\n",
    "import seaborn as sns\n",
    "\n",
    "from sklearn import svm, datasets, preprocessing\n",
    "from sklearn.svm import SVC\n",
    "from sklearn.preprocessing import MinMaxScaler\n",
    "from sklearn import linear_model\n",
    "from sklearn.preprocessing import StandardScaler\n",
    "from sklearn import decomposition\n",
    "from sklearn.decomposition import PCA\n",
    "from sklearn.datasets import load_boston\n",
    "from sklearn.model_selection import train_test_split\n",
    "from sklearn.linear_model import LinearRegression\n",
    "from sklearn import metrics\n",
    "from sklearn.metrics import r2_score, mean_squared_error, mean_absolute_error,accuracy_score, roc_curve, auc, confusion_matrix\n",
    "from sklearn.neighbors import KNeighborsClassifier\n",
    "from mpl_toolkits.mplot3d import Axes3D\n",
    "from sklearn.model_selection import GridSearchCV"
   ]
  },
  {
   "cell_type": "code",
   "execution_count": 62,
   "metadata": {
    "id": "zU6jJhqLJaoP"
   },
   "outputs": [],
   "source": [
    "#Importar dataset\n",
    "hospitalarios = pd.read_excel('rendimientos-hospitalarios.xlsx')"
   ]
  },
  {
   "cell_type": "markdown",
   "metadata": {},
   "source": [
    "## Limpieza de datos\n",
    "A continuación analizaremos los datos con los features:"
   ]
  },
  {
   "cell_type": "code",
   "execution_count": 63,
   "metadata": {
    "colab": {
     "base_uri": "https://localhost:8080/",
     "height": 82
    },
    "executionInfo": {
     "elapsed": 603,
     "status": "ok",
     "timestamp": 1602952892417,
     "user": {
      "displayName": "JAVIER AGUSTIN NISIMURA",
      "photoUrl": "",
      "userId": "14672891135604075839"
     },
     "user_tz": 180
    },
    "id": "7QreNJ_6JeK-",
    "outputId": "c8deeb04-37c6-4ff6-8b0a-7bd8c2c86082"
   },
   "outputs": [
    {
     "name": "stdout",
     "output_type": "stream",
     "text": [
      "El Data Set se compone de 29805 filas.\n",
      "Además, el Data Set se compone de 20 columnas.\n"
     ]
    }
   ],
   "source": [
    "#Cuántasfilas y columnas tiene\n",
    "filas = np.shape(hospitalarios)[0] # [0] para la primera dimension\n",
    "print(\"El Data Set se compone de\", filas, \"filas.\")\n",
    "columnas = np.shape(hospitalarios)[1] # [1] para la segunda dimension\n",
    "print(\"Además, el Data Set se compone de\", columnas, \"columnas.\")"
   ]
  },
  {
   "cell_type": "code",
   "execution_count": 64,
   "metadata": {
    "colab": {
     "base_uri": "https://localhost:8080/",
     "height": 131
    },
    "executionInfo": {
     "elapsed": 565,
     "status": "ok",
     "timestamp": 1602952896396,
     "user": {
      "displayName": "JAVIER AGUSTIN NISIMURA",
      "photoUrl": "",
      "userId": "14672891135604075839"
     },
     "user_tz": 180
    },
    "id": "QUFbAa-OO6RR",
    "outputId": "db485f11-6b02-40b8-dd7c-4f59affc4828"
   },
   "outputs": [
    {
     "data": {
      "text/plain": [
       "array(['anio', 'region_sanitaria', 'municipio_id', 'municipio_nombre',\n",
       "       'dependencia', 'establecimiento', 'consultas_odontologicas',\n",
       "       'consultas_medicas', 'consultas_paramedicas', 'interconsultas',\n",
       "       'egresos', 'dias_camas_disponible', 'promedio_camas_disponibles',\n",
       "       'pacientes_dias', 'ocupacion_porcentaje', 'giro_de_camas',\n",
       "       'dias_estadia', 'promedio_dias_estadia', 'defunciones',\n",
       "       'tasa_mortalidad_hospitalaria'], dtype=object)"
      ]
     },
     "execution_count": 64,
     "metadata": {},
     "output_type": "execute_result"
    }
   ],
   "source": [
    "# Con qué columnas cuenta el Dataset\n",
    "hospitalarios.columns.values"
   ]
  },
  {
   "cell_type": "code",
   "execution_count": 65,
   "metadata": {
    "colab": {
     "base_uri": "https://localhost:8080/",
     "height": 375
    },
    "executionInfo": {
     "elapsed": 770,
     "status": "ok",
     "timestamp": 1602952902809,
     "user": {
      "displayName": "JAVIER AGUSTIN NISIMURA",
      "photoUrl": "",
      "userId": "14672891135604075839"
     },
     "user_tz": 180
    },
    "id": "2HbtDQrcPcak",
    "outputId": "f6637739-584f-4c7f-ac09-54f588b1a369"
   },
   "outputs": [
    {
     "name": "stdout",
     "output_type": "stream",
     "text": [
      "anio                            False\n",
      "region_sanitaria                 True\n",
      "municipio_id                     True\n",
      "municipio_nombre                 True\n",
      "dependencia                      True\n",
      "establecimiento                  True\n",
      "consultas_odontologicas          True\n",
      "consultas_medicas                True\n",
      "consultas_paramedicas            True\n",
      "interconsultas                   True\n",
      "egresos                          True\n",
      "dias_camas_disponible            True\n",
      "promedio_camas_disponibles       True\n",
      "pacientes_dias                   True\n",
      "ocupacion_porcentaje             True\n",
      "giro_de_camas                    True\n",
      "dias_estadia                     True\n",
      "promedio_dias_estadia            True\n",
      "defunciones                      True\n",
      "tasa_mortalidad_hospitalaria     True\n",
      "dtype: bool \r\n",
      "\n"
     ]
    }
   ],
   "source": [
    "#Ahora verificamos que las columnas no tengan NaN.\n",
    "col_NaN = hospitalarios.isnull().any()\n",
    "print(col_NaN,'\\r\\n')"
   ]
  },
  {
   "cell_type": "markdown",
   "metadata": {},
   "source": [
    "En principio se eliminarán los valores nulos."
   ]
  },
  {
   "cell_type": "code",
   "execution_count": 66,
   "metadata": {},
   "outputs": [
    {
     "data": {
      "text/html": [
       "<div>\n",
       "<style scoped>\n",
       "    .dataframe tbody tr th:only-of-type {\n",
       "        vertical-align: middle;\n",
       "    }\n",
       "\n",
       "    .dataframe tbody tr th {\n",
       "        vertical-align: top;\n",
       "    }\n",
       "\n",
       "    .dataframe thead th {\n",
       "        text-align: right;\n",
       "    }\n",
       "</style>\n",
       "<table border=\"1\" class=\"dataframe\">\n",
       "  <thead>\n",
       "    <tr style=\"text-align: right;\">\n",
       "      <th></th>\n",
       "      <th>anio</th>\n",
       "      <th>region_sanitaria</th>\n",
       "      <th>municipio_id</th>\n",
       "      <th>municipio_nombre</th>\n",
       "      <th>dependencia</th>\n",
       "      <th>establecimiento</th>\n",
       "      <th>consultas_odontologicas</th>\n",
       "      <th>consultas_medicas</th>\n",
       "      <th>consultas_paramedicas</th>\n",
       "      <th>interconsultas</th>\n",
       "      <th>egresos</th>\n",
       "      <th>dias_camas_disponible</th>\n",
       "      <th>promedio_camas_disponibles</th>\n",
       "      <th>pacientes_dias</th>\n",
       "      <th>ocupacion_porcentaje</th>\n",
       "      <th>giro_de_camas</th>\n",
       "      <th>dias_estadia</th>\n",
       "      <th>promedio_dias_estadia</th>\n",
       "      <th>defunciones</th>\n",
       "      <th>tasa_mortalidad_hospitalaria</th>\n",
       "    </tr>\n",
       "  </thead>\n",
       "  <tbody>\n",
       "    <tr>\n",
       "      <th>0</th>\n",
       "      <td>2009</td>\n",
       "      <td>I</td>\n",
       "      <td>60007.0</td>\n",
       "      <td>Adolfo Alsina</td>\n",
       "      <td>Municipal</td>\n",
       "      <td>Hogar de Ancianos General N. Levalle</td>\n",
       "      <td>0.0</td>\n",
       "      <td>0.0</td>\n",
       "      <td>0.0</td>\n",
       "      <td>0.0</td>\n",
       "      <td>1.0</td>\n",
       "      <td>12775.0</td>\n",
       "      <td>35.0</td>\n",
       "      <td>12291.0</td>\n",
       "      <td>96.0</td>\n",
       "      <td>0.0</td>\n",
       "      <td>3182.0</td>\n",
       "      <td>3182.0</td>\n",
       "      <td>0.0</td>\n",
       "      <td>0.0</td>\n",
       "    </tr>\n",
       "    <tr>\n",
       "      <th>1</th>\n",
       "      <td>2009</td>\n",
       "      <td>I</td>\n",
       "      <td>60875.0</td>\n",
       "      <td>Villarino</td>\n",
       "      <td>Municipal</td>\n",
       "      <td>Hospital Subzonal Especializado</td>\n",
       "      <td>0.0</td>\n",
       "      <td>0.0</td>\n",
       "      <td>0.0</td>\n",
       "      <td>0.0</td>\n",
       "      <td>0.0</td>\n",
       "      <td>0.0</td>\n",
       "      <td>0.0</td>\n",
       "      <td>0.0</td>\n",
       "      <td>0.0</td>\n",
       "      <td>0.0</td>\n",
       "      <td>0.0</td>\n",
       "      <td>0.0</td>\n",
       "      <td>0.0</td>\n",
       "      <td>0.0</td>\n",
       "    </tr>\n",
       "    <tr>\n",
       "      <th>2</th>\n",
       "      <td>2009</td>\n",
       "      <td>IX</td>\n",
       "      <td>60049.0</td>\n",
       "      <td>Azul</td>\n",
       "      <td>Municipal</td>\n",
       "      <td>Servicio de Psiquiatría del Hospital Dr. Angel...</td>\n",
       "      <td>0.0</td>\n",
       "      <td>0.0</td>\n",
       "      <td>0.0</td>\n",
       "      <td>0.0</td>\n",
       "      <td>0.0</td>\n",
       "      <td>0.0</td>\n",
       "      <td>0.0</td>\n",
       "      <td>0.0</td>\n",
       "      <td>0.0</td>\n",
       "      <td>0.0</td>\n",
       "      <td>0.0</td>\n",
       "      <td>0.0</td>\n",
       "      <td>0.0</td>\n",
       "      <td>0.0</td>\n",
       "    </tr>\n",
       "    <tr>\n",
       "      <th>3</th>\n",
       "      <td>2009</td>\n",
       "      <td>V</td>\n",
       "      <td>60412.0</td>\n",
       "      <td>José C. Paz</td>\n",
       "      <td>Municipal</td>\n",
       "      <td>Hospital Odontológico Eva Perón</td>\n",
       "      <td>217971.0</td>\n",
       "      <td>0.0</td>\n",
       "      <td>0.0</td>\n",
       "      <td>0.0</td>\n",
       "      <td>0.0</td>\n",
       "      <td>0.0</td>\n",
       "      <td>0.0</td>\n",
       "      <td>0.0</td>\n",
       "      <td>0.0</td>\n",
       "      <td>0.0</td>\n",
       "      <td>0.0</td>\n",
       "      <td>0.0</td>\n",
       "      <td>0.0</td>\n",
       "      <td>0.0</td>\n",
       "    </tr>\n",
       "    <tr>\n",
       "      <th>4</th>\n",
       "      <td>2009</td>\n",
       "      <td>I</td>\n",
       "      <td>60007.0</td>\n",
       "      <td>Adolfo Alsina</td>\n",
       "      <td>Municipal</td>\n",
       "      <td>Unidad Sanitaria San Miguel Arcangel</td>\n",
       "      <td>4858.0</td>\n",
       "      <td>7999.0</td>\n",
       "      <td>896.0</td>\n",
       "      <td>0.0</td>\n",
       "      <td>0.0</td>\n",
       "      <td>0.0</td>\n",
       "      <td>0.0</td>\n",
       "      <td>0.0</td>\n",
       "      <td>0.0</td>\n",
       "      <td>0.0</td>\n",
       "      <td>0.0</td>\n",
       "      <td>0.0</td>\n",
       "      <td>0.0</td>\n",
       "      <td>0.0</td>\n",
       "    </tr>\n",
       "    <tr>\n",
       "      <th>...</th>\n",
       "      <td>...</td>\n",
       "      <td>...</td>\n",
       "      <td>...</td>\n",
       "      <td>...</td>\n",
       "      <td>...</td>\n",
       "      <td>...</td>\n",
       "      <td>...</td>\n",
       "      <td>...</td>\n",
       "      <td>...</td>\n",
       "      <td>...</td>\n",
       "      <td>...</td>\n",
       "      <td>...</td>\n",
       "      <td>...</td>\n",
       "      <td>...</td>\n",
       "      <td>...</td>\n",
       "      <td>...</td>\n",
       "      <td>...</td>\n",
       "      <td>...</td>\n",
       "      <td>...</td>\n",
       "      <td>...</td>\n",
       "    </tr>\n",
       "    <tr>\n",
       "      <th>29800</th>\n",
       "      <td>2018</td>\n",
       "      <td>XII</td>\n",
       "      <td>60427.0</td>\n",
       "      <td>La Matanza</td>\n",
       "      <td>Municipal</td>\n",
       "      <td>Unidad Sanitaria El Torero</td>\n",
       "      <td>0.0</td>\n",
       "      <td>10528.0</td>\n",
       "      <td>1578.0</td>\n",
       "      <td>0.0</td>\n",
       "      <td>0.0</td>\n",
       "      <td>0.0</td>\n",
       "      <td>0.0</td>\n",
       "      <td>0.0</td>\n",
       "      <td>0.0</td>\n",
       "      <td>0.0</td>\n",
       "      <td>0.0</td>\n",
       "      <td>0.0</td>\n",
       "      <td>0.0</td>\n",
       "      <td>0.0</td>\n",
       "    </tr>\n",
       "    <tr>\n",
       "      <th>29801</th>\n",
       "      <td>2018</td>\n",
       "      <td>XII</td>\n",
       "      <td>60427.0</td>\n",
       "      <td>La Matanza</td>\n",
       "      <td>Municipal</td>\n",
       "      <td>Unidad Sanitaria Villegas</td>\n",
       "      <td>0.0</td>\n",
       "      <td>7482.0</td>\n",
       "      <td>491.0</td>\n",
       "      <td>0.0</td>\n",
       "      <td>0.0</td>\n",
       "      <td>0.0</td>\n",
       "      <td>0.0</td>\n",
       "      <td>0.0</td>\n",
       "      <td>0.0</td>\n",
       "      <td>0.0</td>\n",
       "      <td>0.0</td>\n",
       "      <td>0.0</td>\n",
       "      <td>0.0</td>\n",
       "      <td>0.0</td>\n",
       "    </tr>\n",
       "    <tr>\n",
       "      <th>29802</th>\n",
       "      <td>2018</td>\n",
       "      <td>XII</td>\n",
       "      <td>60427.0</td>\n",
       "      <td>La Matanza</td>\n",
       "      <td>Municipal</td>\n",
       "      <td>Sala Dr. Miqueleiz (Independencia)</td>\n",
       "      <td>0.0</td>\n",
       "      <td>15746.0</td>\n",
       "      <td>1069.0</td>\n",
       "      <td>0.0</td>\n",
       "      <td>0.0</td>\n",
       "      <td>0.0</td>\n",
       "      <td>0.0</td>\n",
       "      <td>0.0</td>\n",
       "      <td>0.0</td>\n",
       "      <td>0.0</td>\n",
       "      <td>0.0</td>\n",
       "      <td>0.0</td>\n",
       "      <td>0.0</td>\n",
       "      <td>0.0</td>\n",
       "    </tr>\n",
       "    <tr>\n",
       "      <th>29803</th>\n",
       "      <td>2018</td>\n",
       "      <td>XII</td>\n",
       "      <td>60427.0</td>\n",
       "      <td>La Matanza</td>\n",
       "      <td>Municipal</td>\n",
       "      <td>Emergencias Sanitarias</td>\n",
       "      <td>0.0</td>\n",
       "      <td>23042.0</td>\n",
       "      <td>0.0</td>\n",
       "      <td>0.0</td>\n",
       "      <td>0.0</td>\n",
       "      <td>0.0</td>\n",
       "      <td>0.0</td>\n",
       "      <td>0.0</td>\n",
       "      <td>0.0</td>\n",
       "      <td>0.0</td>\n",
       "      <td>0.0</td>\n",
       "      <td>0.0</td>\n",
       "      <td>0.0</td>\n",
       "      <td>0.0</td>\n",
       "    </tr>\n",
       "    <tr>\n",
       "      <th>29804</th>\n",
       "      <td>2018</td>\n",
       "      <td>XII</td>\n",
       "      <td>60427.0</td>\n",
       "      <td>La Matanza</td>\n",
       "      <td>Municipal</td>\n",
       "      <td>Unidad de Salud Villa Giardino</td>\n",
       "      <td>4467.0</td>\n",
       "      <td>15042.0</td>\n",
       "      <td>3556.0</td>\n",
       "      <td>0.0</td>\n",
       "      <td>0.0</td>\n",
       "      <td>0.0</td>\n",
       "      <td>0.0</td>\n",
       "      <td>0.0</td>\n",
       "      <td>0.0</td>\n",
       "      <td>0.0</td>\n",
       "      <td>0.0</td>\n",
       "      <td>0.0</td>\n",
       "      <td>0.0</td>\n",
       "      <td>0.0</td>\n",
       "    </tr>\n",
       "  </tbody>\n",
       "</table>\n",
       "<p>1497 rows × 20 columns</p>\n",
       "</div>"
      ],
      "text/plain": [
       "       anio region_sanitaria  municipio_id municipio_nombre dependencia  \\\n",
       "0      2009                I       60007.0    Adolfo Alsina   Municipal   \n",
       "1      2009                I       60875.0        Villarino   Municipal   \n",
       "2      2009               IX       60049.0             Azul   Municipal   \n",
       "3      2009                V       60412.0      José C. Paz   Municipal   \n",
       "4      2009                I       60007.0    Adolfo Alsina   Municipal   \n",
       "...     ...              ...           ...              ...         ...   \n",
       "29800  2018              XII       60427.0       La Matanza   Municipal   \n",
       "29801  2018              XII       60427.0       La Matanza   Municipal   \n",
       "29802  2018              XII       60427.0       La Matanza   Municipal   \n",
       "29803  2018              XII       60427.0       La Matanza   Municipal   \n",
       "29804  2018              XII       60427.0       La Matanza   Municipal   \n",
       "\n",
       "                                         establecimiento  \\\n",
       "0                   Hogar de Ancianos General N. Levalle   \n",
       "1                        Hospital Subzonal Especializado   \n",
       "2      Servicio de Psiquiatría del Hospital Dr. Angel...   \n",
       "3                        Hospital Odontológico Eva Perón   \n",
       "4                   Unidad Sanitaria San Miguel Arcangel   \n",
       "...                                                  ...   \n",
       "29800                         Unidad Sanitaria El Torero   \n",
       "29801                          Unidad Sanitaria Villegas   \n",
       "29802                 Sala Dr. Miqueleiz (Independencia)   \n",
       "29803                             Emergencias Sanitarias   \n",
       "29804                     Unidad de Salud Villa Giardino   \n",
       "\n",
       "       consultas_odontologicas  consultas_medicas  consultas_paramedicas  \\\n",
       "0                          0.0                0.0                    0.0   \n",
       "1                          0.0                0.0                    0.0   \n",
       "2                          0.0                0.0                    0.0   \n",
       "3                     217971.0                0.0                    0.0   \n",
       "4                       4858.0             7999.0                  896.0   \n",
       "...                        ...                ...                    ...   \n",
       "29800                      0.0            10528.0                 1578.0   \n",
       "29801                      0.0             7482.0                  491.0   \n",
       "29802                      0.0            15746.0                 1069.0   \n",
       "29803                      0.0            23042.0                    0.0   \n",
       "29804                   4467.0            15042.0                 3556.0   \n",
       "\n",
       "       interconsultas  egresos  dias_camas_disponible  \\\n",
       "0                 0.0      1.0                12775.0   \n",
       "1                 0.0      0.0                    0.0   \n",
       "2                 0.0      0.0                    0.0   \n",
       "3                 0.0      0.0                    0.0   \n",
       "4                 0.0      0.0                    0.0   \n",
       "...               ...      ...                    ...   \n",
       "29800             0.0      0.0                    0.0   \n",
       "29801             0.0      0.0                    0.0   \n",
       "29802             0.0      0.0                    0.0   \n",
       "29803             0.0      0.0                    0.0   \n",
       "29804             0.0      0.0                    0.0   \n",
       "\n",
       "       promedio_camas_disponibles  pacientes_dias  ocupacion_porcentaje  \\\n",
       "0                            35.0         12291.0                  96.0   \n",
       "1                             0.0             0.0                   0.0   \n",
       "2                             0.0             0.0                   0.0   \n",
       "3                             0.0             0.0                   0.0   \n",
       "4                             0.0             0.0                   0.0   \n",
       "...                           ...             ...                   ...   \n",
       "29800                         0.0             0.0                   0.0   \n",
       "29801                         0.0             0.0                   0.0   \n",
       "29802                         0.0             0.0                   0.0   \n",
       "29803                         0.0             0.0                   0.0   \n",
       "29804                         0.0             0.0                   0.0   \n",
       "\n",
       "       giro_de_camas  dias_estadia  promedio_dias_estadia  defunciones  \\\n",
       "0                0.0        3182.0                 3182.0          0.0   \n",
       "1                0.0           0.0                    0.0          0.0   \n",
       "2                0.0           0.0                    0.0          0.0   \n",
       "3                0.0           0.0                    0.0          0.0   \n",
       "4                0.0           0.0                    0.0          0.0   \n",
       "...              ...           ...                    ...          ...   \n",
       "29800            0.0           0.0                    0.0          0.0   \n",
       "29801            0.0           0.0                    0.0          0.0   \n",
       "29802            0.0           0.0                    0.0          0.0   \n",
       "29803            0.0           0.0                    0.0          0.0   \n",
       "29804            0.0           0.0                    0.0          0.0   \n",
       "\n",
       "       tasa_mortalidad_hospitalaria  \n",
       "0                               0.0  \n",
       "1                               0.0  \n",
       "2                               0.0  \n",
       "3                               0.0  \n",
       "4                               0.0  \n",
       "...                             ...  \n",
       "29800                           0.0  \n",
       "29801                           0.0  \n",
       "29802                           0.0  \n",
       "29803                           0.0  \n",
       "29804                           0.0  \n",
       "\n",
       "[1497 rows x 20 columns]"
      ]
     },
     "execution_count": 66,
     "metadata": {},
     "output_type": "execute_result"
    }
   ],
   "source": [
    "# Eliminamos los NaN\n",
    "hospitalarios.dropna()"
   ]
  },
  {
   "cell_type": "markdown",
   "metadata": {},
   "source": [
    "## Cantidad de establecimientos relevados por año"
   ]
  },
  {
   "cell_type": "code",
   "execution_count": 67,
   "metadata": {},
   "outputs": [
    {
     "data": {
      "image/png": "[encoded data removed]",
      "text/plain": [
       "<Figure size 1800x648 with 1 Axes>"
      ]
     },
     "metadata": {
      "needs_background": "light"
     },
     "output_type": "display_data"
    }
   ],
   "source": [
    "plt.figure (figsize=(25,9))\n",
    "ax = sns.countplot(x=\"anio\", data=hospitalarios)\n",
    "ax.set_xticklabels(ax.get_xticklabels(), rotation=40, ha=\"right\")\n",
    "plt.title(\"Cantidad de establemientos registrados cada año\")\n",
    "plt.show()"
   ]
  },
  {
   "cell_type": "code",
   "execution_count": 68,
   "metadata": {},
   "outputs": [
    {
     "data": {
      "image/png": "[encoded data removed]",
      "text/plain": [
       "<Figure size 648x432 with 1 Axes>"
      ]
     },
     "metadata": {
      "needs_background": "light"
     },
     "output_type": "display_data"
    }
   ],
   "source": [
    "plt.figure(figsize=(9,6))\n",
    "sns.distplot(hospitalarios['anio'], bins=10)\n",
    "plt.show()"
   ]
  },
  {
   "cell_type": "markdown",
   "metadata": {},
   "source": [
    "## Cantidad de establecimientos por región"
   ]
  },
  {
   "cell_type": "code",
   "execution_count": 69,
   "metadata": {
    "colab": {
     "base_uri": "https://localhost:8080/",
     "height": 420
    },
    "executionInfo": {
     "elapsed": 821,
     "status": "ok",
     "timestamp": 1602952912579,
     "user": {
      "displayName": "JAVIER AGUSTIN NISIMURA",
      "photoUrl": "",
      "userId": "14672891135604075839"
     },
     "user_tz": 180
    },
    "id": "hRxK8V4ISz16",
    "outputId": "434b355a-eac7-4be4-a178-0a0f3d2305e4"
   },
   "outputs": [
    {
     "data": {
      "image/png": "[encoded data removed]",
      "text/plain": [
       "<Figure size 1080x432 with 1 Axes>"
      ]
     },
     "metadata": {
      "needs_background": "light"
     },
     "output_type": "display_data"
    }
   ],
   "source": [
    "sns.set_context(\"talk\", font_scale=1)\n",
    "plt.figure(figsize=(15,6))\n",
    "sns.countplot(hospitalarios.region_sanitaria.values)\n",
    "plt.title(\"Cantidad de establecimientos según región sanitaria\")\n",
    "plt.xticks(rotation=70)\n",
    "plt.show()"
   ]
  },
  {
   "cell_type": "code",
   "execution_count": 70,
   "metadata": {},
   "outputs": [
    {
     "data": {
      "text/html": [
       "<div>\n",
       "<style scoped>\n",
       "    .dataframe tbody tr th:only-of-type {\n",
       "        vertical-align: middle;\n",
       "    }\n",
       "\n",
       "    .dataframe tbody tr th {\n",
       "        vertical-align: top;\n",
       "    }\n",
       "\n",
       "    .dataframe thead th {\n",
       "        text-align: right;\n",
       "    }\n",
       "</style>\n",
       "<table border=\"1\" class=\"dataframe\">\n",
       "  <thead>\n",
       "    <tr style=\"text-align: right;\">\n",
       "      <th></th>\n",
       "      <th>anio</th>\n",
       "      <th>region_sanitaria</th>\n",
       "      <th>municipio_id</th>\n",
       "      <th>municipio_nombre</th>\n",
       "      <th>dependencia</th>\n",
       "      <th>establecimiento</th>\n",
       "      <th>consultas_odontologicas</th>\n",
       "      <th>consultas_medicas</th>\n",
       "      <th>consultas_paramedicas</th>\n",
       "      <th>interconsultas</th>\n",
       "      <th>egresos</th>\n",
       "      <th>dias_camas_disponible</th>\n",
       "      <th>promedio_camas_disponibles</th>\n",
       "      <th>pacientes_dias</th>\n",
       "      <th>ocupacion_porcentaje</th>\n",
       "      <th>giro_de_camas</th>\n",
       "      <th>dias_estadia</th>\n",
       "      <th>promedio_dias_estadia</th>\n",
       "      <th>defunciones</th>\n",
       "      <th>tasa_mortalidad_hospitalaria</th>\n",
       "    </tr>\n",
       "  </thead>\n",
       "  <tbody>\n",
       "    <tr>\n",
       "      <th>623</th>\n",
       "      <td>2014</td>\n",
       "      <td>X</td>\n",
       "      <td>60532.0</td>\n",
       "      <td>Mercedes</td>\n",
       "      <td>Provincial</td>\n",
       "      <td>Hospital Zonal General de Agudos Blas Dubarry</td>\n",
       "      <td>0.0</td>\n",
       "      <td>0.0</td>\n",
       "      <td>0.0</td>\n",
       "      <td>0.0</td>\n",
       "      <td>0.0</td>\n",
       "      <td>0.0</td>\n",
       "      <td>0.0</td>\n",
       "      <td>0.0</td>\n",
       "      <td>0.0</td>\n",
       "      <td>0.0</td>\n",
       "      <td>0.0</td>\n",
       "      <td>0.0</td>\n",
       "      <td>0.0</td>\n",
       "      <td>0.0</td>\n",
       "    </tr>\n",
       "  </tbody>\n",
       "</table>\n",
       "</div>"
      ],
      "text/plain": [
       "     anio region_sanitaria  municipio_id municipio_nombre dependencia  \\\n",
       "623  2014                X       60532.0         Mercedes  Provincial   \n",
       "\n",
       "                                   establecimiento  consultas_odontologicas  \\\n",
       "623  Hospital Zonal General de Agudos Blas Dubarry                      0.0   \n",
       "\n",
       "     consultas_medicas  consultas_paramedicas  interconsultas  egresos  \\\n",
       "623                0.0                    0.0             0.0      0.0   \n",
       "\n",
       "     dias_camas_disponible  promedio_camas_disponibles  pacientes_dias  \\\n",
       "623                    0.0                         0.0             0.0   \n",
       "\n",
       "     ocupacion_porcentaje  giro_de_camas  dias_estadia  promedio_dias_estadia  \\\n",
       "623                   0.0            0.0           0.0                    0.0   \n",
       "\n",
       "     defunciones  tasa_mortalidad_hospitalaria  \n",
       "623          0.0                           0.0  "
      ]
     },
     "execution_count": 70,
     "metadata": {},
     "output_type": "execute_result"
    }
   ],
   "source": [
    "hospitalarios[hospitalarios['region_sanitaria'] == \"X\"]"
   ]
  },
  {
   "cell_type": "markdown",
   "metadata": {},
   "source": [
    "En el dataset no hay datos sobre la región sanitaria X, que incluye los partidos de:\n",
    "- Lobos\n",
    "- Mercedes\n",
    "- Suipacha\n",
    "- Navarro\n",
    "- 25 de Mayo\n",
    "- Saladillo\n",
    "- Roque Pérez\n",
    "- Saladillo\n",
    "- Bragado\n",
    "- Chivilcoy\n",
    "<img src=\"region X (1).JPG\" style=\"width: 750px;\"/>"
   ]
  },
  {
   "cell_type": "markdown",
   "metadata": {},
   "source": [
    "## Análisis de la mortalidad"
   ]
  },
  {
   "cell_type": "code",
   "execution_count": 71,
   "metadata": {},
   "outputs": [
    {
     "data": {
      "image/png": "[encoded data removed]",
      "text/plain": [
       "<Figure size 1080x432 with 1 Axes>"
      ]
     },
     "metadata": {
      "needs_background": "light"
     },
     "output_type": "display_data"
    }
   ],
   "source": [
    "## Ordenado por defunciones segun criterio usando sort_values\n",
    "ordenado_defunciones = hospitalarios.sort_values([\"defunciones\"], ascending=[False]).head(500)\n",
    "ordenado_defunciones[\"region_sanitaria\"].value_counts()\n",
    "\n",
    "plt.figure (figsize=(15,6))\n",
    "ax = sns.countplot(x=\"region_sanitaria\", data=ordenado_defunciones)\n",
    "ax.set_xticklabels(ax.get_xticklabels(), rotation=40, ha=\"right\")\n",
    "plt.title(\"Cantidad de defunciones por región sanitaria en los 500 establecimientos más afectados\")\n",
    "plt.show()"
   ]
  },
  {
   "cell_type": "code",
   "execution_count": 72,
   "metadata": {},
   "outputs": [
    {
     "data": {
      "text/html": [
       "<div>\n",
       "<style scoped>\n",
       "    .dataframe tbody tr th:only-of-type {\n",
       "        vertical-align: middle;\n",
       "    }\n",
       "\n",
       "    .dataframe tbody tr th {\n",
       "        vertical-align: top;\n",
       "    }\n",
       "\n",
       "    .dataframe thead th {\n",
       "        text-align: right;\n",
       "    }\n",
       "</style>\n",
       "<table border=\"1\" class=\"dataframe\">\n",
       "  <thead>\n",
       "    <tr style=\"text-align: right;\">\n",
       "      <th></th>\n",
       "      <th>anio</th>\n",
       "      <th>region_sanitaria</th>\n",
       "      <th>municipio_id</th>\n",
       "      <th>municipio_nombre</th>\n",
       "      <th>dependencia</th>\n",
       "      <th>establecimiento</th>\n",
       "      <th>consultas_odontologicas</th>\n",
       "      <th>consultas_medicas</th>\n",
       "      <th>consultas_paramedicas</th>\n",
       "      <th>interconsultas</th>\n",
       "      <th>egresos</th>\n",
       "      <th>dias_camas_disponible</th>\n",
       "      <th>promedio_camas_disponibles</th>\n",
       "      <th>pacientes_dias</th>\n",
       "      <th>ocupacion_porcentaje</th>\n",
       "      <th>giro_de_camas</th>\n",
       "      <th>dias_estadia</th>\n",
       "      <th>promedio_dias_estadia</th>\n",
       "      <th>defunciones</th>\n",
       "      <th>tasa_mortalidad_hospitalaria</th>\n",
       "    </tr>\n",
       "  </thead>\n",
       "  <tbody>\n",
       "    <tr>\n",
       "      <th>29744</th>\n",
       "      <td>2018</td>\n",
       "      <td>XII</td>\n",
       "      <td>60427.0</td>\n",
       "      <td>La Matanza</td>\n",
       "      <td>Municipal</td>\n",
       "      <td>Policlínico Central</td>\n",
       "      <td>0.0</td>\n",
       "      <td>206567.0</td>\n",
       "      <td>4363.0</td>\n",
       "      <td>0.0</td>\n",
       "      <td>3449.0</td>\n",
       "      <td>17019.0</td>\n",
       "      <td>47.0</td>\n",
       "      <td>9708.0</td>\n",
       "      <td>57.0</td>\n",
       "      <td>74.0</td>\n",
       "      <td>9454.0</td>\n",
       "      <td>3.0</td>\n",
       "      <td>30.0</td>\n",
       "      <td>1.0</td>\n",
       "    </tr>\n",
       "  </tbody>\n",
       "</table>\n",
       "</div>"
      ],
      "text/plain": [
       "       anio region_sanitaria  municipio_id municipio_nombre dependencia  \\\n",
       "29744  2018              XII       60427.0       La Matanza   Municipal   \n",
       "\n",
       "           establecimiento  consultas_odontologicas  consultas_medicas  \\\n",
       "29744  Policlínico Central                      0.0           206567.0   \n",
       "\n",
       "       consultas_paramedicas  interconsultas  egresos  dias_camas_disponible  \\\n",
       "29744                 4363.0             0.0   3449.0                17019.0   \n",
       "\n",
       "       promedio_camas_disponibles  pacientes_dias  ocupacion_porcentaje  \\\n",
       "29744                        47.0          9708.0                  57.0   \n",
       "\n",
       "       giro_de_camas  dias_estadia  promedio_dias_estadia  defunciones  \\\n",
       "29744           74.0        9454.0                    3.0         30.0   \n",
       "\n",
       "       tasa_mortalidad_hospitalaria  \n",
       "29744                           1.0  "
      ]
     },
     "execution_count": 72,
     "metadata": {},
     "output_type": "execute_result"
    }
   ],
   "source": [
    "ordenado_defunciones[ordenado_defunciones['region_sanitaria'] == \"XII\"]"
   ]
  },
  {
   "cell_type": "markdown",
   "metadata": {},
   "source": [
    "El único Establecimiento de la región XII entre los más 500 afectados por las defunciones es el Policlínico Central de La Matanza.\n",
    "<img src=\"region12.png\" style=\"width: 750px;\"/>"
   ]
  },
  {
   "cell_type": "code",
   "execution_count": 51,
   "metadata": {},
   "outputs": [
    {
     "data": {
      "text/plain": [
       "La Plata               51\n",
       "Malvinas Argentinas    50\n",
       "Avellaneda             39\n",
       "Moreno                 38\n",
       "Zárate                 31\n",
       "Pilar                  31\n",
       "Vicente López          26\n",
       "Tigre                  25\n",
       "Almirante Brown        24\n",
       "San Fernando           22\n",
       "San Isidro             20\n",
       "Lomas de Zamora        19\n",
       "Berazategui            18\n",
       "San Miguel             16\n",
       "General Pueyrredón      9\n",
       "Name: municipio_nombre, dtype: int64"
      ]
     },
     "execution_count": 51,
     "metadata": {},
     "output_type": "execute_result"
    }
   ],
   "source": [
    "#A qué municipio corresponden los establecimientos más afectados por muertes\n",
    "ordenado_defunciones[\"municipio_nombre\"].value_counts().head(15)"
   ]
  },
  {
   "cell_type": "markdown",
   "metadata": {
    "id": "wnP2FLM4XsSB"
   },
   "source": [
    "Se justifica que haya tantos establecimientos en las regiones V y VI debido a la gran cantidad de muertes. \n",
    "\n",
    "Cruzamos con cantidad de consultas, internaciones, o algo asi para ver si e justifica que en las zonas 5 y 6 haya tantos establecimientos o si en la 12 están por debajo de lo necesario"
   ]
  },
  {
   "cell_type": "code",
   "execution_count": 52,
   "metadata": {},
   "outputs": [
    {
     "data": {
      "text/html": [
       "<div>\n",
       "<style scoped>\n",
       "    .dataframe tbody tr th:only-of-type {\n",
       "        vertical-align: middle;\n",
       "    }\n",
       "\n",
       "    .dataframe tbody tr th {\n",
       "        vertical-align: top;\n",
       "    }\n",
       "\n",
       "    .dataframe thead th {\n",
       "        text-align: right;\n",
       "    }\n",
       "</style>\n",
       "<table border=\"1\" class=\"dataframe\">\n",
       "  <thead>\n",
       "    <tr style=\"text-align: right;\">\n",
       "      <th></th>\n",
       "      <th>establecimiento</th>\n",
       "      <th>region_sanitaria</th>\n",
       "      <th>defunciones</th>\n",
       "      <th>egresos</th>\n",
       "    </tr>\n",
       "  </thead>\n",
       "  <tbody>\n",
       "    <tr>\n",
       "      <th>65</th>\n",
       "      <td>Hogar Municipal del Anciano</td>\n",
       "      <td>I</td>\n",
       "      <td>6.0</td>\n",
       "      <td>8.0</td>\n",
       "    </tr>\n",
       "    <tr>\n",
       "      <th>228</th>\n",
       "      <td>Hogar de Ancianos Dr. J. R. Lamas</td>\n",
       "      <td>II</td>\n",
       "      <td>4.0</td>\n",
       "      <td>5.0</td>\n",
       "    </tr>\n",
       "    <tr>\n",
       "      <th>245</th>\n",
       "      <td>Hogar de Ancianos Municipal Sto. D. de Guzmán</td>\n",
       "      <td>II</td>\n",
       "      <td>12.0</td>\n",
       "      <td>19.0</td>\n",
       "    </tr>\n",
       "    <tr>\n",
       "      <th>374</th>\n",
       "      <td>Hogar de Ancianos de Vedia</td>\n",
       "      <td>III</td>\n",
       "      <td>12.0</td>\n",
       "      <td>13.0</td>\n",
       "    </tr>\n",
       "    <tr>\n",
       "      <th>435</th>\n",
       "      <td>Hogar de Ancianos Carlos Stebb</td>\n",
       "      <td>IV</td>\n",
       "      <td>23.0</td>\n",
       "      <td>24.0</td>\n",
       "    </tr>\n",
       "    <tr>\n",
       "      <th>490</th>\n",
       "      <td>Hogar Geriátrico Nuestra Sra. de Luján</td>\n",
       "      <td>IV</td>\n",
       "      <td>12.0</td>\n",
       "      <td>15.0</td>\n",
       "    </tr>\n",
       "    <tr>\n",
       "      <th>723</th>\n",
       "      <td>Hogar de Ancianos Sarah Forrest de Cuelli</td>\n",
       "      <td>V</td>\n",
       "      <td>10.0</td>\n",
       "      <td>11.0</td>\n",
       "    </tr>\n",
       "    <tr>\n",
       "      <th>1204</th>\n",
       "      <td>Hogar de Ancianos Dr. Salvador Sallares</td>\n",
       "      <td>VI</td>\n",
       "      <td>10.0</td>\n",
       "      <td>13.0</td>\n",
       "    </tr>\n",
       "  </tbody>\n",
       "</table>\n",
       "</div>"
      ],
      "text/plain": [
       "                                    establecimiento region_sanitaria  \\\n",
       "65                      Hogar Municipal del Anciano                I   \n",
       "228               Hogar de Ancianos Dr. J. R. Lamas               II   \n",
       "245   Hogar de Ancianos Municipal Sto. D. de Guzmán               II   \n",
       "374                      Hogar de Ancianos de Vedia              III   \n",
       "435                  Hogar de Ancianos Carlos Stebb               IV   \n",
       "490          Hogar Geriátrico Nuestra Sra. de Luján               IV   \n",
       "723       Hogar de Ancianos Sarah Forrest de Cuelli                V   \n",
       "1204        Hogar de Ancianos Dr. Salvador Sallares               VI   \n",
       "\n",
       "      defunciones  egresos  \n",
       "65            6.0      8.0  \n",
       "228           4.0      5.0  \n",
       "245          12.0     19.0  \n",
       "374          12.0     13.0  \n",
       "435          23.0     24.0  \n",
       "490          12.0     15.0  \n",
       "723          10.0     11.0  \n",
       "1204         10.0     13.0  "
      ]
     },
     "execution_count": 52,
     "metadata": {},
     "output_type": "execute_result"
    }
   ],
   "source": [
    "## Establecimientos con mayor mortalidad hospitalaria\n",
    "hospitalarios_mayor_mortalidad = hospitalarios[(hospitalarios[\"tasa_mortalidad_hospitalaria\"] < 100) & (hospitalarios[\"tasa_mortalidad_hospitalaria\"] > 50)]\n",
    "hospitalarios_mayor_mortalidad[['establecimiento', 'region_sanitaria', 'defunciones', 'egresos']]"
   ]
  },
  {
   "cell_type": "code",
   "execution_count": 53,
   "metadata": {},
   "outputs": [
    {
     "data": {
      "text/plain": [
       "IV     2\n",
       "II     2\n",
       "V      1\n",
       "III    1\n",
       "I      1\n",
       "VI     1\n",
       "Name: region_sanitaria, dtype: int64"
      ]
     },
     "execution_count": 53,
     "metadata": {},
     "output_type": "execute_result"
    }
   ],
   "source": [
    "# Cuántas veces desde 2005 cada región tuvo más de 80% de mortalidad\n",
    "hospitalarios_mayor_mortalidad['region_sanitaria'].value_counts()"
   ]
  },
  {
   "cell_type": "code",
   "execution_count": 54,
   "metadata": {},
   "outputs": [
    {
     "data": {
      "text/plain": [
       "43645.0"
      ]
     },
     "execution_count": 54,
     "metadata": {},
     "output_type": "execute_result"
    }
   ],
   "source": [
    "hospitalarios_mayor_mortalidad['dias_estadia'].max()"
   ]
  },
  {
   "cell_type": "code",
   "execution_count": 55,
   "metadata": {},
   "outputs": [
    {
     "data": {
      "text/html": [
       "<div>\n",
       "<style scoped>\n",
       "    .dataframe tbody tr th:only-of-type {\n",
       "        vertical-align: middle;\n",
       "    }\n",
       "\n",
       "    .dataframe tbody tr th {\n",
       "        vertical-align: top;\n",
       "    }\n",
       "\n",
       "    .dataframe thead th {\n",
       "        text-align: right;\n",
       "    }\n",
       "</style>\n",
       "<table border=\"1\" class=\"dataframe\">\n",
       "  <thead>\n",
       "    <tr style=\"text-align: right;\">\n",
       "      <th></th>\n",
       "      <th>establecimiento</th>\n",
       "      <th>region_sanitaria</th>\n",
       "      <th>municipio_nombre</th>\n",
       "      <th>ocupacion_porcentaje</th>\n",
       "      <th>tasa_mortalidad_hospitalaria</th>\n",
       "    </tr>\n",
       "  </thead>\n",
       "  <tbody>\n",
       "    <tr>\n",
       "      <th>228</th>\n",
       "      <td>Hogar de Ancianos Dr. J. R. Lamas</td>\n",
       "      <td>II</td>\n",
       "      <td>General Villegas</td>\n",
       "      <td>100.0</td>\n",
       "      <td>80.0</td>\n",
       "    </tr>\n",
       "    <tr>\n",
       "      <th>490</th>\n",
       "      <td>Hogar Geriátrico Nuestra Sra. de Luján</td>\n",
       "      <td>IV</td>\n",
       "      <td>San Andrés de Giles</td>\n",
       "      <td>98.0</td>\n",
       "      <td>80.0</td>\n",
       "    </tr>\n",
       "    <tr>\n",
       "      <th>1204</th>\n",
       "      <td>Hogar de Ancianos Dr. Salvador Sallares</td>\n",
       "      <td>VI</td>\n",
       "      <td>Florencio Varela</td>\n",
       "      <td>89.0</td>\n",
       "      <td>77.0</td>\n",
       "    </tr>\n",
       "    <tr>\n",
       "      <th>245</th>\n",
       "      <td>Hogar de Ancianos Municipal Sto. D. de Guzmán</td>\n",
       "      <td>II</td>\n",
       "      <td>2020-07-09 00:00:00</td>\n",
       "      <td>84.0</td>\n",
       "      <td>63.0</td>\n",
       "    </tr>\n",
       "    <tr>\n",
       "      <th>65</th>\n",
       "      <td>Hogar Municipal del Anciano</td>\n",
       "      <td>I</td>\n",
       "      <td>Coronel de Marina Leonardo Rosales</td>\n",
       "      <td>83.0</td>\n",
       "      <td>75.0</td>\n",
       "    </tr>\n",
       "    <tr>\n",
       "      <th>374</th>\n",
       "      <td>Hogar de Ancianos de Vedia</td>\n",
       "      <td>III</td>\n",
       "      <td>Leandro N. Alem</td>\n",
       "      <td>83.0</td>\n",
       "      <td>92.0</td>\n",
       "    </tr>\n",
       "    <tr>\n",
       "      <th>435</th>\n",
       "      <td>Hogar de Ancianos Carlos Stebb</td>\n",
       "      <td>IV</td>\n",
       "      <td>Colón</td>\n",
       "      <td>81.0</td>\n",
       "      <td>96.0</td>\n",
       "    </tr>\n",
       "    <tr>\n",
       "      <th>723</th>\n",
       "      <td>Hogar de Ancianos Sarah Forrest de Cuelli</td>\n",
       "      <td>V</td>\n",
       "      <td>General San MartÍn</td>\n",
       "      <td>73.0</td>\n",
       "      <td>91.0</td>\n",
       "    </tr>\n",
       "  </tbody>\n",
       "</table>\n",
       "</div>"
      ],
      "text/plain": [
       "                                    establecimiento region_sanitaria  \\\n",
       "228               Hogar de Ancianos Dr. J. R. Lamas               II   \n",
       "490          Hogar Geriátrico Nuestra Sra. de Luján               IV   \n",
       "1204        Hogar de Ancianos Dr. Salvador Sallares               VI   \n",
       "245   Hogar de Ancianos Municipal Sto. D. de Guzmán               II   \n",
       "65                      Hogar Municipal del Anciano                I   \n",
       "374                      Hogar de Ancianos de Vedia              III   \n",
       "435                  Hogar de Ancianos Carlos Stebb               IV   \n",
       "723       Hogar de Ancianos Sarah Forrest de Cuelli                V   \n",
       "\n",
       "                        municipio_nombre  ocupacion_porcentaje  \\\n",
       "228                     General Villegas                 100.0   \n",
       "490                  San Andrés de Giles                  98.0   \n",
       "1204                    Florencio Varela                  89.0   \n",
       "245                  2020-07-09 00:00:00                  84.0   \n",
       "65    Coronel de Marina Leonardo Rosales                  83.0   \n",
       "374                      Leandro N. Alem                  83.0   \n",
       "435                                Colón                  81.0   \n",
       "723                   General San MartÍn                  73.0   \n",
       "\n",
       "      tasa_mortalidad_hospitalaria  \n",
       "228                           80.0  \n",
       "490                           80.0  \n",
       "1204                          77.0  \n",
       "245                           63.0  \n",
       "65                            75.0  \n",
       "374                           92.0  \n",
       "435                           96.0  \n",
       "723                           91.0  "
      ]
     },
     "execution_count": 55,
     "metadata": {},
     "output_type": "execute_result"
    }
   ],
   "source": [
    "hospitalarios_mayor_mortalidad[[\"establecimiento\", \"region_sanitaria\", \"municipio_nombre\", \"ocupacion_porcentaje\", \"tasa_mortalidad_hospitalaria\"]].sort_values(\"ocupacion_porcentaje\", ascending = False)"
   ]
  },
  {
   "cell_type": "code",
   "execution_count": 56,
   "metadata": {},
   "outputs": [
    {
     "data": {
      "text/html": [
       "<div>\n",
       "<style scoped>\n",
       "    .dataframe tbody tr th:only-of-type {\n",
       "        vertical-align: middle;\n",
       "    }\n",
       "\n",
       "    .dataframe tbody tr th {\n",
       "        vertical-align: top;\n",
       "    }\n",
       "\n",
       "    .dataframe thead th {\n",
       "        text-align: right;\n",
       "    }\n",
       "</style>\n",
       "<table border=\"1\" class=\"dataframe\">\n",
       "  <thead>\n",
       "    <tr style=\"text-align: right;\">\n",
       "      <th></th>\n",
       "      <th>establecimiento</th>\n",
       "      <th>region_sanitaria</th>\n",
       "      <th>municipio_nombre</th>\n",
       "      <th>promedio_camas_disponibles</th>\n",
       "      <th>ocupacion_porcentaje</th>\n",
       "      <th>tasa_mortalidad_hospitalaria</th>\n",
       "    </tr>\n",
       "  </thead>\n",
       "  <tbody>\n",
       "    <tr>\n",
       "      <th>228</th>\n",
       "      <td>Hogar de Ancianos Dr. J. R. Lamas</td>\n",
       "      <td>II</td>\n",
       "      <td>General Villegas</td>\n",
       "      <td>32.0</td>\n",
       "      <td>100.0</td>\n",
       "      <td>80.0</td>\n",
       "    </tr>\n",
       "    <tr>\n",
       "      <th>490</th>\n",
       "      <td>Hogar Geriátrico Nuestra Sra. de Luján</td>\n",
       "      <td>IV</td>\n",
       "      <td>San Andrés de Giles</td>\n",
       "      <td>72.0</td>\n",
       "      <td>98.0</td>\n",
       "      <td>80.0</td>\n",
       "    </tr>\n",
       "    <tr>\n",
       "      <th>1204</th>\n",
       "      <td>Hogar de Ancianos Dr. Salvador Sallares</td>\n",
       "      <td>VI</td>\n",
       "      <td>Florencio Varela</td>\n",
       "      <td>48.0</td>\n",
       "      <td>89.0</td>\n",
       "      <td>77.0</td>\n",
       "    </tr>\n",
       "    <tr>\n",
       "      <th>245</th>\n",
       "      <td>Hogar de Ancianos Municipal Sto. D. de Guzmán</td>\n",
       "      <td>II</td>\n",
       "      <td>2020-07-09 00:00:00</td>\n",
       "      <td>67.0</td>\n",
       "      <td>84.0</td>\n",
       "      <td>63.0</td>\n",
       "    </tr>\n",
       "    <tr>\n",
       "      <th>65</th>\n",
       "      <td>Hogar Municipal del Anciano</td>\n",
       "      <td>I</td>\n",
       "      <td>Coronel de Marina Leonardo Rosales</td>\n",
       "      <td>49.0</td>\n",
       "      <td>83.0</td>\n",
       "      <td>75.0</td>\n",
       "    </tr>\n",
       "    <tr>\n",
       "      <th>374</th>\n",
       "      <td>Hogar de Ancianos de Vedia</td>\n",
       "      <td>III</td>\n",
       "      <td>Leandro N. Alem</td>\n",
       "      <td>50.0</td>\n",
       "      <td>83.0</td>\n",
       "      <td>92.0</td>\n",
       "    </tr>\n",
       "    <tr>\n",
       "      <th>435</th>\n",
       "      <td>Hogar de Ancianos Carlos Stebb</td>\n",
       "      <td>IV</td>\n",
       "      <td>Colón</td>\n",
       "      <td>91.0</td>\n",
       "      <td>81.0</td>\n",
       "      <td>96.0</td>\n",
       "    </tr>\n",
       "    <tr>\n",
       "      <th>723</th>\n",
       "      <td>Hogar de Ancianos Sarah Forrest de Cuelli</td>\n",
       "      <td>V</td>\n",
       "      <td>General San MartÍn</td>\n",
       "      <td>71.0</td>\n",
       "      <td>73.0</td>\n",
       "      <td>91.0</td>\n",
       "    </tr>\n",
       "  </tbody>\n",
       "</table>\n",
       "</div>"
      ],
      "text/plain": [
       "                                    establecimiento region_sanitaria  \\\n",
       "228               Hogar de Ancianos Dr. J. R. Lamas               II   \n",
       "490          Hogar Geriátrico Nuestra Sra. de Luján               IV   \n",
       "1204        Hogar de Ancianos Dr. Salvador Sallares               VI   \n",
       "245   Hogar de Ancianos Municipal Sto. D. de Guzmán               II   \n",
       "65                      Hogar Municipal del Anciano                I   \n",
       "374                      Hogar de Ancianos de Vedia              III   \n",
       "435                  Hogar de Ancianos Carlos Stebb               IV   \n",
       "723       Hogar de Ancianos Sarah Forrest de Cuelli                V   \n",
       "\n",
       "                        municipio_nombre  promedio_camas_disponibles  \\\n",
       "228                     General Villegas                        32.0   \n",
       "490                  San Andrés de Giles                        72.0   \n",
       "1204                    Florencio Varela                        48.0   \n",
       "245                  2020-07-09 00:00:00                        67.0   \n",
       "65    Coronel de Marina Leonardo Rosales                        49.0   \n",
       "374                      Leandro N. Alem                        50.0   \n",
       "435                                Colón                        91.0   \n",
       "723                   General San MartÍn                        71.0   \n",
       "\n",
       "      ocupacion_porcentaje  tasa_mortalidad_hospitalaria  \n",
       "228                  100.0                          80.0  \n",
       "490                   98.0                          80.0  \n",
       "1204                  89.0                          77.0  \n",
       "245                   84.0                          63.0  \n",
       "65                    83.0                          75.0  \n",
       "374                   83.0                          92.0  \n",
       "435                   81.0                          96.0  \n",
       "723                   73.0                          91.0  "
      ]
     },
     "execution_count": 56,
     "metadata": {},
     "output_type": "execute_result"
    }
   ],
   "source": [
    "hospitalarios_mayor_mortalidad[[\"establecimiento\", \"region_sanitaria\", \"municipio_nombre\", \"promedio_camas_disponibles\", \"ocupacion_porcentaje\", \"tasa_mortalidad_hospitalaria\"]].sort_values(\"ocupacion_porcentaje\", ascending = False)"
   ]
  },
  {
   "cell_type": "markdown",
   "metadata": {},
   "source": [
    "## Análisis de los tipos de establecimientos"
   ]
  },
  {
   "cell_type": "code",
   "execution_count": 83,
   "metadata": {},
   "outputs": [
    {
     "data": {
      "image/png": "[encoded data removed]",
      "text/plain": [
       "<Figure size 1080x432 with 1 Axes>"
      ]
     },
     "metadata": {
      "needs_background": "light"
     },
     "output_type": "display_data"
    }
   ],
   "source": [
    "plt.figure (figsize=(15,6))\n",
    "ax = sns.countplot(x=\"dependencia\", data=hospitalarios)\n",
    "ax.set_xticklabels(ax.get_xticklabels(), rotation=40, ha=\"right\")\n",
    "plt.title(\"Dependencia de los Establecimientos reportados\")\n",
    "plt.show()"
   ]
  },
  {
   "cell_type": "code",
   "execution_count": 17,
   "metadata": {
    "colab": {
     "base_uri": "https://localhost:8080/",
     "height": 346
    },
    "executionInfo": {
     "elapsed": 593,
     "status": "ok",
     "timestamp": 1602971426974,
     "user": {
      "displayName": "JAVIER AGUSTIN NISIMURA",
      "photoUrl": "",
      "userId": "14672891135604075839"
     },
     "user_tz": 180
    },
    "id": "X77dCvrNPHvl",
    "outputId": "7680108d-1008-4471-819c-3cc8bb66d2ed"
   },
   "outputs": [
    {
     "name": "stdout",
     "output_type": "stream",
     "text": [
      "En total hay 1305 establecimientos registrados\n"
     ]
    }
   ],
   "source": [
    "q_establecimientos = len(hospitalarios['establecimiento'].unique()) # Cantidad de valores unicos en 'Establecimiento'\n",
    "print(f'En total hay {q_establecimientos} establecimientos registrados')"
   ]
  },
  {
   "cell_type": "markdown",
   "metadata": {
    "id": "KZ5q2TfKem85"
   },
   "source": [
    "Ante la cantidad de valores diversos que contiene la columna \"establecimiento\", los categorizamos analizamos el comportamiento de cada uno.\n",
    "\n",
    "Extraemos del dataframe 5 tipos de establecimiento, los más significativos: \n",
    "* Hospitales   \n",
    "* Hogares\n",
    "* CAPS (Centros de Atención Primaria de la Salud)\n",
    "* Salas\n",
    "* Unidades Sanitarias"
   ]
  },
  {
   "cell_type": "code",
   "execution_count": 60,
   "metadata": {
    "colab": {
     "base_uri": "https://localhost:8080/",
     "height": 202
    },
    "executionInfo": {
     "elapsed": 741,
     "status": "ok",
     "timestamp": 1602961818799,
     "user": {
      "displayName": "JAVIER AGUSTIN NISIMURA",
      "photoUrl": "",
      "userId": "14672891135604075839"
     },
     "user_tz": 180
    },
    "id": "PFAt-qT19hI7",
    "outputId": "8ada2e4c-c2bf-41f0-91e1-cfd214a4a565"
   },
   "outputs": [],
   "source": [
    "Hospital = hospitalarios[hospitalarios['establecimiento'].str.contains ('Hospital', case=False, na=False)]\n",
    "Hogar = hospitalarios[hospitalarios['establecimiento'].str.contains ('Hogar', case=False, na=False)]\n",
    "Unidad_sanitaria = hospitalarios[hospitalarios['establecimiento'].str.contains ('Unidad Sanitaria', case=False, na=False)]\n",
    "CAPS = hospitalarios[hospitalarios['establecimiento'].str.contains ('CAPS', case=False, na=False)]\n",
    "Sala = hospitalarios[hospitalarios['establecimiento'].str.contains ('Sala', case=False, na=False)]\n",
    "\n",
    "Consultas_salas = Sala['consultas_medicas'].sum()\n",
    "Consultas_hospitales = Hospital['consultas_medicas'].sum()\n",
    "Consultas_CAPS = CAPS['consultas_medicas'].sum()\n",
    "Consultas_unidad_sanitaria = Unidad_sanitaria['consultas_medicas'].sum()\n",
    "Consultas_hogares = Hogar['consultas_medicas'].sum()\n",
    "\n",
    "Camas_hogares = Hogar['promedio_camas_disponibles'].sum()\n",
    "Camas_hospitales = Hospital['promedio_camas_disponibles'].sum()\n",
    "Camas_CAPS = CAPS['promedio_camas_disponibles'].sum()\n",
    "Camas_salas = Sala['promedio_camas_disponibles'].sum()\n",
    "Camas_unidades_sanitarias = Unidad_sanitaria['promedio_camas_disponibles'].sum()"
   ]
  },
  {
   "cell_type": "markdown",
   "metadata": {},
   "source": [
    "### Cantidad de consultas médicas por cada tipo de establecimiento"
   ]
  },
  {
   "cell_type": "code",
   "execution_count": 61,
   "metadata": {},
   "outputs": [
    {
     "data": {
      "text/html": [
       "<div>\n",
       "<style scoped>\n",
       "    .dataframe tbody tr th:only-of-type {\n",
       "        vertical-align: middle;\n",
       "    }\n",
       "\n",
       "    .dataframe tbody tr th {\n",
       "        vertical-align: top;\n",
       "    }\n",
       "\n",
       "    .dataframe thead th {\n",
       "        text-align: right;\n",
       "    }\n",
       "</style>\n",
       "<table border=\"1\" class=\"dataframe\">\n",
       "  <thead>\n",
       "    <tr style=\"text-align: right;\">\n",
       "      <th></th>\n",
       "      <th>Tipo de establecimiento</th>\n",
       "      <th>Consultas médicas</th>\n",
       "    </tr>\n",
       "  </thead>\n",
       "  <tbody>\n",
       "    <tr>\n",
       "      <th>0</th>\n",
       "      <td>Sala</td>\n",
       "      <td>619484.0</td>\n",
       "    </tr>\n",
       "    <tr>\n",
       "      <th>1</th>\n",
       "      <td>Hospital</td>\n",
       "      <td>8417891.0</td>\n",
       "    </tr>\n",
       "    <tr>\n",
       "      <th>2</th>\n",
       "      <td>CAPS</td>\n",
       "      <td>1543419.0</td>\n",
       "    </tr>\n",
       "    <tr>\n",
       "      <th>3</th>\n",
       "      <td>Hogar</td>\n",
       "      <td>24829.0</td>\n",
       "    </tr>\n",
       "    <tr>\n",
       "      <th>4</th>\n",
       "      <td>Unidad Sanitaria</td>\n",
       "      <td>6032516.0</td>\n",
       "    </tr>\n",
       "  </tbody>\n",
       "</table>\n",
       "</div>"
      ],
      "text/plain": [
       "  Tipo de establecimiento  Consultas médicas\n",
       "0                    Sala           619484.0\n",
       "1                Hospital          8417891.0\n",
       "2                    CAPS          1543419.0\n",
       "3                   Hogar            24829.0\n",
       "4        Unidad Sanitaria          6032516.0"
      ]
     },
     "execution_count": 61,
     "metadata": {},
     "output_type": "execute_result"
    }
   ],
   "source": [
    "reporte_consultas = pd.DataFrame(data = [[\"Sala\", Consultas_salas], [\"Hospital\", Consultas_hospitales], [\"CAPS\", Consultas_CAPS], [\"Hogar\", Consultas_hogares], [\"Unidad Sanitaria\", Consultas_unidad_sanitaria]],\n",
    "columns = ['Tipo de establecimiento', 'Consultas médicas'])\n",
    "reporte_consultas"
   ]
  },
  {
   "cell_type": "code",
   "execution_count": 62,
   "metadata": {},
   "outputs": [
    {
     "data": {
      "image/png": "[encoded data removed]",
      "text/plain": [
       "<Figure size 1008x432 with 1 Axes>"
      ]
     },
     "metadata": {
      "needs_background": "light"
     },
     "output_type": "display_data"
    }
   ],
   "source": [
    "fig = plt.figure(figsize = (14,6))\n",
    "sns.barplot(x = 'Tipo de establecimiento', y = 'Consultas médicas', data = reporte_consultas, palette=\"winter\")\n",
    "plt.title(\"Consultas médicas en cada tipo de estblecimiento\")\n",
    "plt.xticks(rotation=0)\n",
    "plt.show()"
   ]
  },
  {
   "cell_type": "code",
   "execution_count": 63,
   "metadata": {},
   "outputs": [
    {
     "data": {
      "image/png": "[encoded data removed]",
      "text/plain": [
       "<Figure size 1080x648 with 1 Axes>"
      ]
     },
     "metadata": {},
     "output_type": "display_data"
    }
   ],
   "source": [
    "reporte_consultas.plot(kind='pie', figsize=(15,9), labels = reporte_consultas['Tipo de establecimiento'], y='Consultas médicas', legend=None, autopct='%.2f %%', title='Cantidad de consultas por establecimiento') \n",
    "plt.tight_layout() \n",
    "plt.show()"
   ]
  },
  {
   "cell_type": "markdown",
   "metadata": {
    "id": "zO6iPMugiGvm"
   },
   "source": [
    "### Cantidad de camas disponibles por cada tipo de establecimiento"
   ]
  },
  {
   "cell_type": "code",
   "execution_count": 64,
   "metadata": {},
   "outputs": [
    {
     "data": {
      "text/html": [
       "<div>\n",
       "<style scoped>\n",
       "    .dataframe tbody tr th:only-of-type {\n",
       "        vertical-align: middle;\n",
       "    }\n",
       "\n",
       "    .dataframe tbody tr th {\n",
       "        vertical-align: top;\n",
       "    }\n",
       "\n",
       "    .dataframe thead th {\n",
       "        text-align: right;\n",
       "    }\n",
       "</style>\n",
       "<table border=\"1\" class=\"dataframe\">\n",
       "  <thead>\n",
       "    <tr style=\"text-align: right;\">\n",
       "      <th></th>\n",
       "      <th>Tipo de establecimiento</th>\n",
       "      <th>Camas disponibles</th>\n",
       "    </tr>\n",
       "  </thead>\n",
       "  <tbody>\n",
       "    <tr>\n",
       "      <th>0</th>\n",
       "      <td>Sala</td>\n",
       "      <td>36.0</td>\n",
       "    </tr>\n",
       "    <tr>\n",
       "      <th>1</th>\n",
       "      <td>Hospital</td>\n",
       "      <td>7687.0</td>\n",
       "    </tr>\n",
       "    <tr>\n",
       "      <th>2</th>\n",
       "      <td>CAPS</td>\n",
       "      <td>0.0</td>\n",
       "    </tr>\n",
       "    <tr>\n",
       "      <th>3</th>\n",
       "      <td>Hogar</td>\n",
       "      <td>1625.0</td>\n",
       "    </tr>\n",
       "    <tr>\n",
       "      <th>4</th>\n",
       "      <td>Unidad Sanitaria</td>\n",
       "      <td>397.0</td>\n",
       "    </tr>\n",
       "  </tbody>\n",
       "</table>\n",
       "</div>"
      ],
      "text/plain": [
       "  Tipo de establecimiento  Camas disponibles\n",
       "0                    Sala               36.0\n",
       "1                Hospital             7687.0\n",
       "2                    CAPS                0.0\n",
       "3                   Hogar             1625.0\n",
       "4        Unidad Sanitaria              397.0"
      ]
     },
     "execution_count": 64,
     "metadata": {},
     "output_type": "execute_result"
    }
   ],
   "source": [
    "reporte_camas =pd.DataFrame(data = [[\"Sala\", Camas_salas], [\"Hospital\", Camas_hospitales], [\"CAPS\", Camas_CAPS], [\"Hogar\", Camas_hogares], [\"Unidad Sanitaria\", Camas_unidades_sanitarias]],\n",
    "columns = ['Tipo de establecimiento', 'Camas disponibles'])\n",
    "reporte_camas"
   ]
  },
  {
   "cell_type": "code",
   "execution_count": 65,
   "metadata": {},
   "outputs": [
    {
     "data": {
      "image/png": "[encoded data removed]",
      "text/plain": [
       "<Figure size 1008x432 with 1 Axes>"
      ]
     },
     "metadata": {
      "needs_background": "light"
     },
     "output_type": "display_data"
    }
   ],
   "source": [
    "fig = plt.figure(figsize = (14,6))\n",
    "sns.barplot(x = 'Tipo de establecimiento', y = 'Camas disponibles', data = reporte_camas, palette=\"winter\")\n",
    "plt.title(\"Camas disponibles en cada tipo de estblecimiento\")\n",
    "plt.xticks(rotation=0)\n",
    "plt.show()"
   ]
  },
  {
   "cell_type": "markdown",
   "metadata": {},
   "source": [
    "## Indicadores anuales"
   ]
  },
  {
   "cell_type": "markdown",
   "metadata": {},
   "source": [
    "Finalizado este análisis buscaremos contar cada uno de los indicadores de Gestión Hospitalaria de manera anual:"
   ]
  },
  {
   "cell_type": "code",
   "execution_count": 18,
   "metadata": {},
   "outputs": [
    {
     "data": {
      "text/html": [
       "<div>\n",
       "<style scoped>\n",
       "    .dataframe tbody tr th:only-of-type {\n",
       "        vertical-align: middle;\n",
       "    }\n",
       "\n",
       "    .dataframe tbody tr th {\n",
       "        vertical-align: top;\n",
       "    }\n",
       "\n",
       "    .dataframe thead th {\n",
       "        text-align: right;\n",
       "    }\n",
       "</style>\n",
       "<table border=\"1\" class=\"dataframe\">\n",
       "  <thead>\n",
       "    <tr style=\"text-align: right;\">\n",
       "      <th></th>\n",
       "      <th>consultas_medicas</th>\n",
       "      <th>consultas_odontologicas</th>\n",
       "      <th>consultas_paramedicas</th>\n",
       "      <th>interconsultas</th>\n",
       "      <th>egresos</th>\n",
       "    </tr>\n",
       "    <tr>\n",
       "      <th>anio</th>\n",
       "      <th></th>\n",
       "      <th></th>\n",
       "      <th></th>\n",
       "      <th></th>\n",
       "      <th></th>\n",
       "    </tr>\n",
       "  </thead>\n",
       "  <tbody>\n",
       "    <tr>\n",
       "      <th>2005</th>\n",
       "      <td>950259.0</td>\n",
       "      <td>634328.0</td>\n",
       "      <td>109700.0</td>\n",
       "      <td>7644.0</td>\n",
       "      <td>43739.0</td>\n",
       "    </tr>\n",
       "    <tr>\n",
       "      <th>2006</th>\n",
       "      <td>325959.0</td>\n",
       "      <td>662008.0</td>\n",
       "      <td>53341.0</td>\n",
       "      <td>7411.0</td>\n",
       "      <td>19422.0</td>\n",
       "    </tr>\n",
       "    <tr>\n",
       "      <th>2007</th>\n",
       "      <td>195146.0</td>\n",
       "      <td>743922.0</td>\n",
       "      <td>56215.0</td>\n",
       "      <td>6740.0</td>\n",
       "      <td>12077.0</td>\n",
       "    </tr>\n",
       "    <tr>\n",
       "      <th>2008</th>\n",
       "      <td>20850.0</td>\n",
       "      <td>834584.0</td>\n",
       "      <td>10462.0</td>\n",
       "      <td>0.0</td>\n",
       "      <td>2.0</td>\n",
       "    </tr>\n",
       "    <tr>\n",
       "      <th>2009</th>\n",
       "      <td>12350458.0</td>\n",
       "      <td>1814009.0</td>\n",
       "      <td>1578851.0</td>\n",
       "      <td>0.0</td>\n",
       "      <td>29510.0</td>\n",
       "    </tr>\n",
       "    <tr>\n",
       "      <th>2010</th>\n",
       "      <td>426385.0</td>\n",
       "      <td>923940.0</td>\n",
       "      <td>16417.0</td>\n",
       "      <td>3185.0</td>\n",
       "      <td>17847.0</td>\n",
       "    </tr>\n",
       "    <tr>\n",
       "      <th>2011</th>\n",
       "      <td>526320.0</td>\n",
       "      <td>1293299.0</td>\n",
       "      <td>34797.0</td>\n",
       "      <td>3717.0</td>\n",
       "      <td>17310.0</td>\n",
       "    </tr>\n",
       "    <tr>\n",
       "      <th>2012</th>\n",
       "      <td>715084.0</td>\n",
       "      <td>1484637.0</td>\n",
       "      <td>53999.0</td>\n",
       "      <td>3380.0</td>\n",
       "      <td>31051.0</td>\n",
       "    </tr>\n",
       "    <tr>\n",
       "      <th>2013</th>\n",
       "      <td>711822.0</td>\n",
       "      <td>1482476.0</td>\n",
       "      <td>32900.0</td>\n",
       "      <td>2705.0</td>\n",
       "      <td>55600.0</td>\n",
       "    </tr>\n",
       "    <tr>\n",
       "      <th>2014</th>\n",
       "      <td>731257.0</td>\n",
       "      <td>1376233.0</td>\n",
       "      <td>30751.0</td>\n",
       "      <td>0.0</td>\n",
       "      <td>49089.0</td>\n",
       "    </tr>\n",
       "    <tr>\n",
       "      <th>2015</th>\n",
       "      <td>941216.0</td>\n",
       "      <td>1423459.0</td>\n",
       "      <td>65829.0</td>\n",
       "      <td>10532.0</td>\n",
       "      <td>65373.0</td>\n",
       "    </tr>\n",
       "    <tr>\n",
       "      <th>2016</th>\n",
       "      <td>1053715.0</td>\n",
       "      <td>1606279.0</td>\n",
       "      <td>82309.0</td>\n",
       "      <td>18827.0</td>\n",
       "      <td>65564.0</td>\n",
       "    </tr>\n",
       "    <tr>\n",
       "      <th>2017</th>\n",
       "      <td>1081629.0</td>\n",
       "      <td>2118029.0</td>\n",
       "      <td>88406.0</td>\n",
       "      <td>19085.0</td>\n",
       "      <td>69914.0</td>\n",
       "    </tr>\n",
       "    <tr>\n",
       "      <th>2018</th>\n",
       "      <td>5329721.0</td>\n",
       "      <td>2539156.0</td>\n",
       "      <td>664658.0</td>\n",
       "      <td>21152.0</td>\n",
       "      <td>71515.0</td>\n",
       "    </tr>\n",
       "  </tbody>\n",
       "</table>\n",
       "</div>"
      ],
      "text/plain": [
       "      consultas_medicas  consultas_odontologicas  consultas_paramedicas  \\\n",
       "anio                                                                      \n",
       "2005           950259.0                 634328.0               109700.0   \n",
       "2006           325959.0                 662008.0                53341.0   \n",
       "2007           195146.0                 743922.0                56215.0   \n",
       "2008            20850.0                 834584.0                10462.0   \n",
       "2009         12350458.0                1814009.0              1578851.0   \n",
       "2010           426385.0                 923940.0                16417.0   \n",
       "2011           526320.0                1293299.0                34797.0   \n",
       "2012           715084.0                1484637.0                53999.0   \n",
       "2013           711822.0                1482476.0                32900.0   \n",
       "2014           731257.0                1376233.0                30751.0   \n",
       "2015           941216.0                1423459.0                65829.0   \n",
       "2016          1053715.0                1606279.0                82309.0   \n",
       "2017          1081629.0                2118029.0                88406.0   \n",
       "2018          5329721.0                2539156.0               664658.0   \n",
       "\n",
       "      interconsultas  egresos  \n",
       "anio                           \n",
       "2005          7644.0  43739.0  \n",
       "2006          7411.0  19422.0  \n",
       "2007          6740.0  12077.0  \n",
       "2008             0.0      2.0  \n",
       "2009             0.0  29510.0  \n",
       "2010          3185.0  17847.0  \n",
       "2011          3717.0  17310.0  \n",
       "2012          3380.0  31051.0  \n",
       "2013          2705.0  55600.0  \n",
       "2014             0.0  49089.0  \n",
       "2015         10532.0  65373.0  \n",
       "2016         18827.0  65564.0  \n",
       "2017         19085.0  69914.0  \n",
       "2018         21152.0  71515.0  "
      ]
     },
     "execution_count": 18,
     "metadata": {},
     "output_type": "execute_result"
    }
   ],
   "source": [
    "consultas = hospitalarios[[\"anio\", \"consultas_medicas\", \"consultas_odontologicas\", \"consultas_paramedicas\", \"interconsultas\", \"egresos\"]]\n",
    "consultas_anuales = consultas.groupby(\"anio\").sum()\n",
    "consultas_anuales"
   ]
  },
  {
   "cell_type": "code",
   "execution_count": 19,
   "metadata": {},
   "outputs": [
    {
     "data": {
      "image/png": "[encoded data removed]",
      "text/plain": [
       "<Figure size 720x720 with 20 Axes>"
      ]
     },
     "metadata": {
      "needs_background": "light"
     },
     "output_type": "display_data"
    }
   ],
   "source": [
    "sns.pairplot(consultas_anuales[[\"consultas_medicas\",\"consultas_paramedicas\", \"interconsultas\", \"egresos\"]])\n",
    "plt.show()"
   ]
  },
  {
   "cell_type": "code",
   "execution_count": 20,
   "metadata": {},
   "outputs": [
    {
     "data": {
      "image/png": "[encoded data removed]",
      "text/plain": [
       "<Figure size 1080x648 with 2 Axes>"
      ]
     },
     "metadata": {
      "needs_background": "light"
     },
     "output_type": "display_data"
    }
   ],
   "source": [
    "matriz_corr = consultas_anuales.corr()\n",
    "plt.figure(figsize=(15,9))\n",
    "sns.heatmap(data = matriz_corr, annot = True)\n",
    "plt.show()"
   ]
  },
  {
   "cell_type": "markdown",
   "metadata": {},
   "source": [
    "Existe una correlación lineal perfecta entre consultas médicas y paramédicas:\n",
    "* Las consultas médicas son realizadas por médicos especialistas, mientras que las últimas son realizadas por un médico general o por personal técnico.\n",
    "\n",
    "Existe una correlación entre las interconsultas y los egresos:\n",
    "* Recordamos que una interconsulta ocurre cuando el profesional de la salud que lo atiende considera necesario que usted sea evaluado por un médico especialista cuando la hacen en el consultorio o por otro especialista cuando usted es visto por un médico del hospital. Un egreso es el alta del paciente por transferencia a otra institución de salud, inconformidad por la atención prestada, inadaptación al medio hospitalario o por motivos económicos."
   ]
  },
  {
   "cell_type": "code",
   "execution_count": 21,
   "metadata": {},
   "outputs": [
    {
     "data": {
      "text/html": [
       "<div>\n",
       "<style scoped>\n",
       "    .dataframe tbody tr th:only-of-type {\n",
       "        vertical-align: middle;\n",
       "    }\n",
       "\n",
       "    .dataframe tbody tr th {\n",
       "        vertical-align: top;\n",
       "    }\n",
       "\n",
       "    .dataframe thead th {\n",
       "        text-align: right;\n",
       "    }\n",
       "</style>\n",
       "<table border=\"1\" class=\"dataframe\">\n",
       "  <thead>\n",
       "    <tr style=\"text-align: right;\">\n",
       "      <th></th>\n",
       "      <th></th>\n",
       "      <th>defunciones</th>\n",
       "    </tr>\n",
       "    <tr>\n",
       "      <th>anio</th>\n",
       "      <th>region_sanitaria</th>\n",
       "      <th></th>\n",
       "    </tr>\n",
       "  </thead>\n",
       "  <tbody>\n",
       "    <tr>\n",
       "      <th>2015</th>\n",
       "      <th>V</th>\n",
       "      <td>1530.0</td>\n",
       "    </tr>\n",
       "    <tr>\n",
       "      <th>2013</th>\n",
       "      <th>V</th>\n",
       "      <td>1502.0</td>\n",
       "    </tr>\n",
       "    <tr>\n",
       "      <th>2014</th>\n",
       "      <th>V</th>\n",
       "      <td>1477.0</td>\n",
       "    </tr>\n",
       "    <tr>\n",
       "      <th>2016</th>\n",
       "      <th>V</th>\n",
       "      <td>1452.0</td>\n",
       "    </tr>\n",
       "    <tr>\n",
       "      <th>2012</th>\n",
       "      <th>V</th>\n",
       "      <td>1439.0</td>\n",
       "    </tr>\n",
       "    <tr>\n",
       "      <th>2017</th>\n",
       "      <th>V</th>\n",
       "      <td>1412.0</td>\n",
       "    </tr>\n",
       "    <tr>\n",
       "      <th>2018</th>\n",
       "      <th>V</th>\n",
       "      <td>1311.0</td>\n",
       "    </tr>\n",
       "    <tr>\n",
       "      <th>2005</th>\n",
       "      <th>V</th>\n",
       "      <td>1289.0</td>\n",
       "    </tr>\n",
       "    <tr>\n",
       "      <th>2011</th>\n",
       "      <th>V</th>\n",
       "      <td>1127.0</td>\n",
       "    </tr>\n",
       "    <tr>\n",
       "      <th>2017</th>\n",
       "      <th>VIII</th>\n",
       "      <td>1124.0</td>\n",
       "    </tr>\n",
       "    <tr>\n",
       "      <th>2018</th>\n",
       "      <th>VIII</th>\n",
       "      <td>1077.0</td>\n",
       "    </tr>\n",
       "    <tr>\n",
       "      <th>2016</th>\n",
       "      <th>VIII</th>\n",
       "      <td>1053.0</td>\n",
       "    </tr>\n",
       "    <tr>\n",
       "      <th>2015</th>\n",
       "      <th>VIII</th>\n",
       "      <td>1014.0</td>\n",
       "    </tr>\n",
       "    <tr>\n",
       "      <th>2006</th>\n",
       "      <th>V</th>\n",
       "      <td>1000.0</td>\n",
       "    </tr>\n",
       "    <tr>\n",
       "      <th>2005</th>\n",
       "      <th>VIII</th>\n",
       "      <td>991.0</td>\n",
       "    </tr>\n",
       "  </tbody>\n",
       "</table>\n",
       "</div>"
      ],
      "text/plain": [
       "                       defunciones\n",
       "anio region_sanitaria             \n",
       "2015 V                      1530.0\n",
       "2013 V                      1502.0\n",
       "2014 V                      1477.0\n",
       "2016 V                      1452.0\n",
       "2012 V                      1439.0\n",
       "2017 V                      1412.0\n",
       "2018 V                      1311.0\n",
       "2005 V                      1289.0\n",
       "2011 V                      1127.0\n",
       "2017 VIII                   1124.0\n",
       "2018 VIII                   1077.0\n",
       "2016 VIII                   1053.0\n",
       "2015 VIII                   1014.0\n",
       "2006 V                      1000.0\n",
       "2005 VIII                    991.0"
      ]
     },
     "execution_count": 21,
     "metadata": {},
     "output_type": "execute_result"
    }
   ],
   "source": [
    "data = hospitalarios[[\"anio\", \"region_sanitaria\", \"defunciones\"]]\n",
    "data_anual = data.groupby([\"anio\", \"region_sanitaria\"]).sum()\n",
    "data_anual.sort_values(by=\"defunciones\", ascending=[False]).head(15)"
   ]
  },
  {
   "cell_type": "markdown",
   "metadata": {},
   "source": [
    "Se puede verificar que la región sanitaria V y la VIII son las más afectadas por defunciones en establecimientos hospitalarios.\n",
    "\n",
    "Sería importante conocer por qué se notifican más datos de esta zona.\n",
    "\n",
    "<img src=\"region5.png\" style=\"width: 750px;\"/>\n",
    "<img src=\"region8.JPG\" style=\"width: 750px;\"/>"
   ]
  },
  {
   "cell_type": "code",
   "execution_count": 22,
   "metadata": {},
   "outputs": [
    {
     "data": {
      "image/png": "[encoded data removed]",
      "text/plain": [
       "<Figure size 432x288 with 1 Axes>"
      ]
     },
     "metadata": {
      "needs_background": "light"
     },
     "output_type": "display_data"
    },
    {
     "data": {
      "image/png": "[encoded data removed]",
      "text/plain": [
       "<Figure size 432x288 with 1 Axes>"
      ]
     },
     "metadata": {
      "needs_background": "light"
     },
     "output_type": "display_data"
    }
   ],
   "source": [
    "sns.distplot(hospitalarios[\"consultas_medicas\"])\n",
    "plt.title('Distribución de consultas médicas')\n",
    "plt.show()\n",
    "\n",
    "sns.distplot(hospitalarios[\"consultas_paramedicas\"])\n",
    "plt.title('Distribución de consultas paramédicas')\n",
    "plt.show()"
   ]
  }
 ],
 "metadata": {
  "colab": {
   "collapsed_sections": [],
   "name": "Trabajo practico .ipynb",
   "provenance": []
  },
  "kernelspec": {
   "display_name": "Python 3",
   "language": "python",
   "name": "python3"
  },
  "language_info": {
   "codemirror_mode": {
    "name": "ipython",
    "version": 3
   },
   "file_extension": ".py",
   "mimetype": "text/x-python",
   "name": "python",
   "nbconvert_exporter": "python",
   "pygments_lexer": "ipython3",
   "version": "3.7.6"
  }
 },
 "nbformat": 4,
 "nbformat_minor": 1
}
